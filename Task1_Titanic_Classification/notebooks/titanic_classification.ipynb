{
 "cells": [
  {
   "cell_type": "code",
   "execution_count": 38,
   "metadata": {},
   "outputs": [],
   "source": [
    "import os\n",
    "import pandas as pd\n",
    "import numpy as np\n",
    "import seaborn as sns\n",
    "import matplotlib.pyplot as plt\n",
    "from sklearn.model_selection import train_test_split\n",
    "from sklearn.ensemble import RandomForestClassifier\n",
    "from sklearn.metrics import accuracy_score, confusion_matrix, classification_report\n",
    "from joblib import dump, load\n",
    "from reportlab.lib.pagesizes import letter\n",
    "from reportlab.pdfgen import canvas\n",
    "from reportlab.lib.utils import ImageReader"
   ]
  },
  {
   "cell_type": "code",
   "execution_count": 39,
   "metadata": {},
   "outputs": [],
   "source": [
    "def preprocess(df: pd.DataFrame) -> pd.DataFrame:\n",
    "    df = df.copy()\n",
    "    df['Age'].fillna(df['Age'].median(), inplace=True)\n",
    "    df['Embarked'].fillna('S', inplace=True)\n",
    "    df['Fare'].fillna(df['Fare'].median(), inplace=True)\n",
    "    df['FamilySize'] = df['SibSp'] + df['Parch'] + 1\n",
    "    df['IsAlone'] = (df['FamilySize'] == 1).astype(int)\n",
    "    df = pd.get_dummies(df, columns=['Sex', 'Embarked'], drop_first=True)\n",
    "    features = ['Pclass', 'Age', 'Fare', 'FamilySize', 'IsAlone',\n",
    "                'Sex_male', 'Embarked_Q', 'Embarked_S']\n",
    "    return df[features + (['Survived'] if 'Survived' in df.columns else [])]"
   ]
  },
  {
   "cell_type": "code",
   "execution_count": 40,
   "metadata": {},
   "outputs": [
    {
     "name": "stdout",
     "output_type": "stream",
     "text": [
      "Processed datasets saved to 'train_processed.csv' and 'val_processed.csv'\n"
     ]
    }
   ],
   "source": [
    "df_train = pd.read_csv('../data/train.csv')\n",
    "\n",
    "def preprocess(df):\n",
    "    df = df.copy()  \n",
    "    df['Age'] = df['Age'].fillna(df['Age'].median())\n",
    "    df['Embarked'] = df['Embarked'].fillna('S')\n",
    "    df['Fare'] = df['Fare'].fillna(df['Fare'].median())\n",
    "    return df\n",
    "\n",
    "train, val = train_test_split(df_proc, test_size=0.2, random_state=42, stratify=df_proc['Survived'])\n",
    "os.makedirs('../data/processed', exist_ok=True)\n",
    "train.to_csv('../data/processed/train_processed.csv', index=False)\n",
    "val.to_csv('../data/processed/val_processed.csv', index=False)\n",
    "\n",
    "print(\"Processed datasets saved to 'train_processed.csv' and 'val_processed.csv'\")"
   ]
  },
  {
   "cell_type": "code",
   "execution_count": 41,
   "metadata": {},
   "outputs": [
    {
     "data": {
      "text/plain": [
       "['../models/titanic_model.pkl']"
      ]
     },
     "execution_count": 41,
     "metadata": {},
     "output_type": "execute_result"
    }
   ],
   "source": [
    "train = pd.read_csv('../data/processed/train_processed.csv')\n",
    "X = train.drop('Survived', axis=1)\n",
    "y = train['Survived']\n",
    "\n",
    "model = RandomForestClassifier(n_estimators=100, random_state=42)\n",
    "model.fit(X, y)\n",
    "dump(model, '../models/titanic_model.pkl')\n"
   ]
  },
  {
   "cell_type": "code",
   "execution_count": 42,
   "metadata": {},
   "outputs": [
    {
     "name": "stdout",
     "output_type": "stream",
     "text": [
      "Accuracy: 0.8044692737430168\n",
      "Confusion Matrix:\n",
      " [[95 15]\n",
      " [20 49]]\n",
      "Classification Report:\n",
      "               precision    recall  f1-score   support\n",
      "\n",
      "           0       0.83      0.86      0.84       110\n",
      "           1       0.77      0.71      0.74        69\n",
      "\n",
      "    accuracy                           0.80       179\n",
      "   macro avg       0.80      0.79      0.79       179\n",
      "weighted avg       0.80      0.80      0.80       179\n",
      "\n"
     ]
    }
   ],
   "source": [
    "val = pd.read_csv('../data/processed/val_processed.csv')\n",
    "X_val = val.drop('Survived', axis=1)\n",
    "y_val = val['Survived']\n",
    "model = load('../models/titanic_model.pkl')\n",
    "\n",
    "preds = model.predict(X_val)\n",
    "acc = accuracy_score(y_val, preds)\n",
    "cm = confusion_matrix(y_val, preds)\n",
    "report = classification_report(y_val, preds)\n",
    "\n",
    "print(\"Accuracy:\", acc)\n",
    "print(\"Confusion Matrix:\\n\", cm)\n",
    "print(\"Classification Report:\\n\", report)\n"
   ]
  },
  {
   "cell_type": "code",
   "execution_count": 43,
   "metadata": {},
   "outputs": [
    {
     "data": {
      "text/plain": [
       "<Figure size 640x480 with 0 Axes>"
      ]
     },
     "metadata": {},
     "output_type": "display_data"
    }
   ],
   "source": [
    "df = pd.read_csv('../data/train.csv')\n",
    "os.makedirs('../visuals', exist_ok=True)\n",
    "sns.countplot(x='Survived', hue='Sex', data=df)\n",
    "plt.title('Survival by Gender')\n",
    "plt.savefig('../visuals/survival_by_gender.png')\n",
    "plt.clf()\n",
    "\n",
    "sns.countplot(x='Survived', hue='Pclass', data=df)\n",
    "plt.title('Survival by Class')\n",
    "plt.savefig('../visuals/survival_by_class.png')\n",
    "plt.clf()\n",
    "\n",
    "sns.histplot(data=df, x='Age', hue='Survived', kde=True, bins=30)\n",
    "plt.title('Age Distribution by Survival')\n",
    "plt.savefig('../visuals/age_distribution.png')\n",
    "plt.clf()\n",
    "\n",
    "df_heatmap = df.copy()\n",
    "df_heatmap['Sex'] = df_heatmap['Sex'].map({'male': 1, 'female': 0})\n",
    "df_heatmap['Embarked'] = df_heatmap['Embarked'].map({'S': 0, 'C': 1, 'Q': 2})\n",
    "df_heatmap['Age'] = df_heatmap['Age'].fillna(df_heatmap['Age'].median())\n",
    "df_heatmap['Fare'] = df_heatmap['Fare'].fillna(df_heatmap['Fare'].median())\n",
    "df_heatmap['Embarked'] = df_heatmap['Embarked'].fillna(0)\n",
    "\n",
    "corr = df_heatmap[['Survived', 'Pclass', 'Sex', 'Age', 'Fare', 'SibSp', 'Parch', 'Embarked']].corr()\n",
    "sns.heatmap(corr, annot=True, cmap='coolwarm')\n",
    "plt.title('Feature Correlation')\n",
    "plt.savefig('../visuals/feature_correlation.png')\n",
    "plt.clf()"
   ]
  },
  {
   "cell_type": "code",
   "execution_count": 44,
   "metadata": {},
   "outputs": [
    {
     "name": "stdout",
     "output_type": "stream",
     "text": [
      "Predictions saved to 'predictions.csv'\n"
     ]
    }
   ],
   "source": [
    "df_test = pd.read_csv('../data/test.csv')\n",
    "df_test_proc = preprocess(df_test)\n",
    "\n",
    "if 'Survived' in df_test_proc.columns:\n",
    "    df_test_proc = df_test_proc.drop('Survived', axis=1)\n",
    "\n",
    "missing_cols = set(model.feature_names_in_) - set(df_test_proc.columns)\n",
    "for col in missing_cols:\n",
    "    df_test_proc[col] = 0\n",
    "\n",
    "df_test_proc = df_test_proc[model.feature_names_in_]  # Reorder to match\n",
    "df_test['Survived_Pred'] = model.predict(df_test_proc)\n",
    "\n",
    "df_test[['PassengerId', 'Survived_Pred']].to_csv('../data/predictions.csv', index=False)\n",
    "print(\"Predictions saved to 'predictions.csv'\")\n"
   ]
  },
  {
   "cell_type": "code",
   "execution_count": 49,
   "metadata": {},
   "outputs": [
    {
     "name": "stdout",
     "output_type": "stream",
     "text": [
      "Visualizations saved in '../visuals' folder.\n"
     ]
    }
   ],
   "source": [
    "\n",
    "\n",
    "# Ensure visuals directory exists\n",
    "os.makedirs('../visuals', exist_ok=True)\n",
    "\n",
    "# Plot 1: Survival by Gender\n",
    "plt.figure(figsize=(6, 4))\n",
    "sns.countplot(data=df_train, x='Sex', hue='Survived')\n",
    "plt.title('Survival by Gender')\n",
    "plt.xlabel('Sex')\n",
    "plt.ylabel('Count')\n",
    "plt.legend(title='Survived')\n",
    "plt.tight_layout()\n",
    "plt.savefig('../visuals/survival_by_gender.png')\n",
    "plt.close()\n",
    "\n",
    "# Plot 2: Survival by Class\n",
    "plt.figure(figsize=(6, 4))\n",
    "sns.countplot(data=df_train, x='Pclass', hue='Survived')\n",
    "plt.title('Survival by Class')\n",
    "plt.xlabel('Passenger Class')\n",
    "plt.ylabel('Count')\n",
    "plt.legend(title='Survived')\n",
    "plt.tight_layout()\n",
    "plt.savefig('../visuals/survival_by_class.png')\n",
    "plt.close()\n",
    "\n",
    "# Plot 3: Age Distribution\n",
    "plt.figure(figsize=(6, 4))\n",
    "sns.histplot(data=df_train, x='Age', bins=30, kde=True)\n",
    "plt.title('Age Distribution')\n",
    "plt.xlabel('Age')\n",
    "plt.ylabel('Count')\n",
    "plt.tight_layout()\n",
    "plt.savefig('../visuals/age_distribution.png')\n",
    "plt.close()\n",
    "\n",
    "# Plot 4: Feature Correlation Heatmap (numeric columns only)\n",
    "plt.figure(figsize=(10, 8))\n",
    "numeric_df = df_train.select_dtypes(include='number')  # Avoid string conversion errors\n",
    "sns.heatmap(numeric_df.corr(), annot=True, cmap='coolwarm', fmt='.2f')\n",
    "plt.title('Feature Correlation Heatmap')\n",
    "plt.tight_layout()\n",
    "plt.savefig('../visuals/feature_correlation.png')\n",
    "plt.close()\n",
    "\n",
    "print(\"Visualizations saved in '../visuals' folder.\")\n"
   ]
  },
  {
   "cell_type": "code",
   "execution_count": 50,
   "metadata": {},
   "outputs": [
    {
     "name": "stdout",
     "output_type": "stream",
     "text": [
      "📄 PDF Report generated at: reports/titanic_model_report.pdf\n"
     ]
    }
   ],
   "source": [
    "os.makedirs('reports', exist_ok=True)\n",
    "\n",
    "c = canvas.Canvas(\"reports/titanic_model_report.pdf\", pagesize=letter)\n",
    "width, height = letter\n",
    "\n",
    "c.setFont(\"Helvetica-Bold\", 18)\n",
    "c.drawString(50, height - 50, \"Titanic Classification Model Report\")\n",
    "c.setFont(\"Helvetica\", 12)\n",
    "c.drawString(50, height - 100, f\"Accuracy: {acc:.4f}\")\n",
    "\n",
    "c.drawString(50, height - 130, \"Confusion Matrix:\")\n",
    "for i, row in enumerate(cm):\n",
    "    c.drawString(70, height - 150 - i*15, str(row))\n",
    "\n",
    "c.drawString(50, height - 200, \"Classification Report:\")\n",
    "for i, line in enumerate(report.split('\\n')):\n",
    "    c.drawString(70, height - 220 - i*15, line.strip())\n",
    "\n",
    "img_paths = [\n",
    "    '../visuals/survival_by_gender.png',\n",
    "    '../visuals/survival_by_class.png',\n",
    "    '../visuals/age_distribution.png',\n",
    "    '../visuals/feature_correlation.png'\n",
    "]\n",
    "\n",
    "for img_path in img_paths:\n",
    "    if os.path.exists(img_path):\n",
    "        c.showPage()\n",
    "        c.drawImage(ImageReader(img_path), 50, 200, width=500, preserveAspectRatio=True, mask='auto')\n",
    "        c.setFont(\"Helvetica\", 12)\n",
    "        c.drawString(50, 180, os.path.basename(img_path).replace('_', ' ').replace('.png', '').title())\n",
    "    else:\n",
    "        print(f\"⚠️ Warning: Image not found - {img_path}\")\n",
    "\n",
    "c.save()\n",
    "print(\"PDF Report generated at: reports/titanic_model_report.pdf\")\n"
   ]
  }
 ],
 "metadata": {
  "kernelspec": {
   "display_name": "3.13",
   "language": "python",
   "name": "python3"
  },
  "language_info": {
   "codemirror_mode": {
    "name": "ipython",
    "version": 3
   },
   "file_extension": ".py",
   "mimetype": "text/x-python",
   "name": "python",
   "nbconvert_exporter": "python",
   "pygments_lexer": "ipython3",
   "version": "3.13.2"
  }
 },
 "nbformat": 4,
 "nbformat_minor": 2
}
